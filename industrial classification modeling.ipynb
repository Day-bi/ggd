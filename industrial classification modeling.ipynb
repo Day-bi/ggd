{
 "cells": [
  {
   "cell_type": "markdown",
   "metadata": {},
   "source": [
    "# 산업분류 자동화 모델"
   ]
  },
  {
   "cell_type": "code",
   "execution_count": 37,
   "metadata": {},
   "outputs": [],
   "source": [
    "# 모델 개발용 자료 부르기\n",
    "import pandas as pd\n",
    "t = pd.read_csv(\"modeling.csv\")\n",
    "c = pd.read_excel(\"한국표준산업분류(10차)_국문.xlsx\",header=1)"
   ]
  },
  {
   "cell_type": "markdown",
   "metadata": {},
   "source": [
    "#### 끄적끄적\n",
    "1.먼저 분류코드 값 채우기 (굳이 코드로 짜야할까...)\n",
    "세세분류코드 이용하기\n",
    "- 앞 두자리는 중분류, 중간1,2,3자리는 소분류, 1~4자리는 세분류코드임\n",
    "세세분류코드에서 떼어와서 새로운 컬럼 만들거나 or 자릿값만 해당 자리에 집어넣기\n",
    "-> 코드에 따라 항목명 생성하기\n",
    "-> for 문으로 대분류 코드 넣어주기 & 대분류항목명 채워주기\n",
    "-> nan값 다 채우면 이제 데이터프레임 완성~!\n",
    "\n",
    "1.2 분류모델 만들기\n",
    "일단,, 원데이터가 txt 파일이었음\n",
    "-> 텍스트 파일 불러오기\n",
    "2.모델링 데이터 이용하기\n",
    "x 에 모델링 데이터를 넣는다 -> 분류모델이 돌아간다 -> 다시 엑셀로 저장한다 -> 확인"
   ]
  },
  {
   "cell_type": "code",
   "execution_count": 40,
   "metadata": {
    "scrolled": true
   },
   "outputs": [
    {
     "data": {
      "text/html": [
       "<div>\n",
       "<style scoped>\n",
       "    .dataframe tbody tr th:only-of-type {\n",
       "        vertical-align: middle;\n",
       "    }\n",
       "\n",
       "    .dataframe tbody tr th {\n",
       "        vertical-align: top;\n",
       "    }\n",
       "\n",
       "    .dataframe thead th {\n",
       "        text-align: right;\n",
       "    }\n",
       "</style>\n",
       "<table border=\"1\" class=\"dataframe\">\n",
       "  <thead>\n",
       "    <tr style=\"text-align: right;\">\n",
       "      <th></th>\n",
       "      <th>대분류코드</th>\n",
       "      <th>대분류항목명</th>\n",
       "      <th>중분류코드</th>\n",
       "      <th>중분류항목명</th>\n",
       "      <th>소분류코드</th>\n",
       "      <th>소분류항목명</th>\n",
       "      <th>세분류코드</th>\n",
       "      <th>세분류항목명</th>\n",
       "      <th>세세분류코드</th>\n",
       "      <th>세세분류항목명</th>\n",
       "    </tr>\n",
       "  </thead>\n",
       "  <tbody>\n",
       "    <tr>\n",
       "      <th>1</th>\n",
       "      <td>A</td>\n",
       "      <td>농업, 임업 및 어업(01~03)</td>\n",
       "      <td>01</td>\n",
       "      <td>농업</td>\n",
       "      <td>011</td>\n",
       "      <td>작물 재배업</td>\n",
       "      <td>0111</td>\n",
       "      <td>곡물 및 기타 식량작물 재배업</td>\n",
       "      <td>01110</td>\n",
       "      <td>곡물 및 기타 식량작물 재배업</td>\n",
       "    </tr>\n",
       "    <tr>\n",
       "      <th>2</th>\n",
       "      <td>NaN</td>\n",
       "      <td>NaN</td>\n",
       "      <td>NaN</td>\n",
       "      <td>NaN</td>\n",
       "      <td>NaN</td>\n",
       "      <td>NaN</td>\n",
       "      <td>0112</td>\n",
       "      <td>채소, 화훼작물 및 종묘 재배업</td>\n",
       "      <td>01121</td>\n",
       "      <td>채소작물 재배업</td>\n",
       "    </tr>\n",
       "    <tr>\n",
       "      <th>3</th>\n",
       "      <td>NaN</td>\n",
       "      <td>NaN</td>\n",
       "      <td>NaN</td>\n",
       "      <td>NaN</td>\n",
       "      <td>NaN</td>\n",
       "      <td>NaN</td>\n",
       "      <td>NaN</td>\n",
       "      <td>NaN</td>\n",
       "      <td>01122</td>\n",
       "      <td>화훼작물 재배업</td>\n",
       "    </tr>\n",
       "    <tr>\n",
       "      <th>4</th>\n",
       "      <td>NaN</td>\n",
       "      <td>NaN</td>\n",
       "      <td>NaN</td>\n",
       "      <td>NaN</td>\n",
       "      <td>NaN</td>\n",
       "      <td>NaN</td>\n",
       "      <td>NaN</td>\n",
       "      <td>NaN</td>\n",
       "      <td>01123</td>\n",
       "      <td>종자 및 묘목 생산업</td>\n",
       "    </tr>\n",
       "    <tr>\n",
       "      <th>5</th>\n",
       "      <td>NaN</td>\n",
       "      <td>NaN</td>\n",
       "      <td>NaN</td>\n",
       "      <td>NaN</td>\n",
       "      <td>NaN</td>\n",
       "      <td>NaN</td>\n",
       "      <td>0113</td>\n",
       "      <td>과실, 음료용 및 향신용 작물 재배업</td>\n",
       "      <td>01131</td>\n",
       "      <td>과실작물 재배업</td>\n",
       "    </tr>\n",
       "  </tbody>\n",
       "</table>\n",
       "</div>"
      ],
      "text/plain": [
       "  대분류코드              대분류항목명 중분류코드 중분류항목명 소분류코드  소분류항목명 세분류코드  \\\n",
       "1     A  농업, 임업 및 어업(01~03)    01     농업   011  작물 재배업  0111   \n",
       "2   NaN                 NaN   NaN    NaN   NaN     NaN  0112   \n",
       "3   NaN                 NaN   NaN    NaN   NaN     NaN   NaN   \n",
       "4   NaN                 NaN   NaN    NaN   NaN     NaN   NaN   \n",
       "5   NaN                 NaN   NaN    NaN   NaN     NaN  0113   \n",
       "\n",
       "                 세분류항목명 세세분류코드           세세분류항목명  \n",
       "1      곡물 및 기타 식량작물 재배업  01110  곡물 및 기타 식량작물 재배업  \n",
       "2     채소, 화훼작물 및 종묘 재배업  01121          채소작물 재배업  \n",
       "3                   NaN  01122          화훼작물 재배업  \n",
       "4                   NaN  01123       종자 및 묘목 생산업  \n",
       "5  과실, 음료용 및 향신용 작물 재배업  01131          과실작물 재배업  "
      ]
     },
     "execution_count": 40,
     "metadata": {},
     "output_type": "execute_result"
    }
   ],
   "source": [
    "c.head()"
   ]
  },
  {
   "cell_type": "code",
   "execution_count": 39,
   "metadata": {},
   "outputs": [],
   "source": [
    "# category cleaning\n",
    "# 변수명 수정\n",
    "c.columns = ['대분류코드','대분류항목명','중분류코드','중분류항목명','소분류코드','소분류항목명','세분류코드','세분류항목명','세세분류코드','세세분류항목명']\n",
    "c = c.drop(0,axis=0) # 필요없는 행 삭제"
   ]
  },
  {
   "cell_type": "code",
   "execution_count": null,
   "metadata": {},
   "outputs": [],
   "source": []
  },
  {
   "cell_type": "code",
   "execution_count": null,
   "metadata": {},
   "outputs": [],
   "source": []
  },
  {
   "cell_type": "code",
   "execution_count": null,
   "metadata": {},
   "outputs": [],
   "source": []
  }
 ],
 "metadata": {
  "kernelspec": {
   "display_name": "Python 3",
   "language": "python",
   "name": "python3"
  },
  "language_info": {
   "codemirror_mode": {
    "name": "ipython",
    "version": 3
   },
   "file_extension": ".py",
   "mimetype": "text/x-python",
   "name": "python",
   "nbconvert_exporter": "python",
   "pygments_lexer": "ipython3",
   "version": "3.8.3"
  }
 },
 "nbformat": 4,
 "nbformat_minor": 4
}
